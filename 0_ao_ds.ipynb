{
 "cells": [
  {
   "cell_type": "code",
   "execution_count": 1,
   "id": "222e72e3",
   "metadata": {
    "ExecuteTime": {
     "end_time": "2022-02-11T01:38:16.422360Z",
     "start_time": "2022-02-11T01:38:14.343519Z"
    },
    "scrolled": false
   },
   "outputs": [],
   "source": [
    "########### RODAR ###########\n",
    "\n",
    "# import pandas as pd\n",
    "# from IPython.core.display import HTML\n",
    "# import seaborn as sns\n",
    "# import plotly.express as px\n",
    "# import matplotlib.pyplot as plt\n",
    "# import calendar\n",
    "# from matplotlib import gridspec\n",
    "# import ipywidgets as widgets\n",
    "# from ipywidgets import fixed \n",
    "\n",
    "########### RODAR ###########"
   ]
  },
  {
   "cell_type": "code",
   "execution_count": 2,
   "id": "66cfc14b",
   "metadata": {
    "ExecuteTime": {
     "end_time": "2022-02-11T01:38:16.670622Z",
     "start_time": "2022-02-11T01:38:16.457474Z"
    },
    "scrolled": false
   },
   "outputs": [
    {
     "name": "stdout",
     "output_type": "stream",
     "text": [
      "Populating the interactive namespace from numpy and matplotlib\n"
     ]
    },
    {
     "data": {
      "text/html": [
       "<style>.container { width:100% !important; }</style>"
      ],
      "text/plain": [
       "<IPython.core.display.HTML object>"
      ]
     },
     "metadata": {},
     "output_type": "display_data"
    }
   ],
   "source": [
    "########### RODAR ###########\n",
    "\n",
    "# path = 'C:/Users/jps/Desktop/Python/repos/python_zero_ao_ds1/datasets/house_rocket/kc_house_data.csv'\n",
    "# df = pd.read_csv(path)\n",
    "\n",
    "# describe_df = df.describe()\n",
    "# df['date'] = df['date'].str.slice(stop=8)\n",
    "# df['date'] = pd.to_datetime(df['date'], format='%Y%m%d')\n",
    "# for i in ['sqft_lot','sqft_above','sqft_basement','sqft_lot15','sqft_living15']:\n",
    "#     df[i]=df[i]*(0.092903)\n",
    "\n",
    "# def jupyter_settings():\n",
    "#     %matplotlib inline\n",
    "#     %pylab inline\n",
    "#     %config InlineBackend.figure_format = 'retina'\n",
    "\n",
    "#     plt.style.use('ggplot')\n",
    "#     plt.rcParams['figure.figsize'] = [16, 12]\n",
    "#     plt.rcParams['font.size'] = 24\n",
    "\n",
    "#     display(HTML('<style>.container { width:100% !important; }</style>'))\n",
    "#     pd.options.display.max_columns = None\n",
    "#     pd.options.display.max_rows = None\n",
    "#     pd.options.display.float_format = '{:,.4f}'.format\n",
    "#     pd.set_option('display.expand_frame_repr', False)\n",
    "#     pd.set_option('display.max_columns', None)\n",
    "#     pd.set_option('display.max_rows', None)\n",
    "\n",
    "#     sns.set()\n",
    "    \n",
    "# jupyter_settings()\n",
    "\n",
    "########### RODAR ###########"
   ]
  },
  {
   "cell_type": "code",
   "execution_count": 3,
   "id": "c7082c35",
   "metadata": {
    "ExecuteTime": {
     "end_time": "2022-02-11T01:38:22.536875Z",
     "start_time": "2022-02-11T01:38:22.524766Z"
    }
   },
   "outputs": [],
   "source": [
    "# Pergunta 1:\n",
    "\n",
    "# df['date'].count()"
   ]
  },
  {
   "cell_type": "code",
   "execution_count": 4,
   "id": "14d9c4d3",
   "metadata": {
    "ExecuteTime": {
     "end_time": "2022-02-11T01:38:28.226213Z",
     "start_time": "2022-02-11T01:38:28.214338Z"
    },
    "scrolled": false
   },
   "outputs": [],
   "source": [
    "# Pergunta 2:\n",
    "\n",
    "# len(list(df.columns))-2"
   ]
  },
  {
   "cell_type": "code",
   "execution_count": 5,
   "id": "2068ed34",
   "metadata": {
    "ExecuteTime": {
     "end_time": "2022-02-11T01:38:33.698650Z",
     "start_time": "2022-02-11T01:38:33.686343Z"
    },
    "scrolled": false
   },
   "outputs": [],
   "source": [
    "# Pergunta 3:\n",
    "\n",
    "# list(df.drop(['id','date'],axis=1).columns)"
   ]
  },
  {
   "cell_type": "code",
   "execution_count": 6,
   "id": "b46d87ca",
   "metadata": {
    "ExecuteTime": {
     "end_time": "2022-02-11T01:38:39.199082Z",
     "start_time": "2022-02-11T01:38:39.157756Z"
    },
    "scrolled": false
   },
   "outputs": [],
   "source": [
    "# Pergunta 4:\n",
    "\n",
    "# df.sort_values(by=['price'], ascending=False).loc[7252]"
   ]
  },
  {
   "cell_type": "code",
   "execution_count": 7,
   "id": "5439d31f",
   "metadata": {
    "ExecuteTime": {
     "end_time": "2022-02-11T01:38:43.298787Z",
     "start_time": "2022-02-11T01:38:43.286116Z"
    },
    "scrolled": false
   },
   "outputs": [],
   "source": [
    "# # Pergunta 6:\n",
    "# print('A6: ',df['bedrooms'].sum())\n",
    "# # Pergunta 7:\n",
    "# print('A7: ',(df['bathrooms'] == 2).sum())\n",
    "# # Pergunta 8:\n",
    "# print('A8: ',df['price'].mean())\n",
    "# # Pergunta 9:\n",
    "# print('A9: ', df[['price','bathrooms']][df['bathrooms'] == 2].mean()[0])\n",
    "# # Pergunta 10:\n",
    "# print('A10:', df[['price','bedrooms']][df['bedrooms'] == 3].min()[0])\n",
    "# # Pergunta 11:\n",
    "# print('A11:', df[df['sqft_living'] > (300/0.093)].count()[0])\n",
    "# # Pergunta 12:\n",
    "# print('A12:', df[df['floors'] > 2].count()[0])\n",
    "# # Pergunta 13:\n",
    "# print('A13:', df[df['waterfront'] == 1].count()[0])\n",
    "# # Pergunta 14:\n",
    "# print('A14:', df[(df['bedrooms'] == 3)&(df['waterfront'] == 1)].count()[0])\n",
    "# # Pergunta 15:\n",
    "# print('A15:', df['bathrooms'][(df['sqft_living'] > (300/0.093)) & (df['sqft_living'] > 2)].count())\n"
   ]
  },
  {
   "cell_type": "code",
   "execution_count": 8,
   "id": "39927ad9",
   "metadata": {
    "ExecuteTime": {
     "end_time": "2022-02-11T01:38:49.156943Z",
     "start_time": "2022-02-11T01:38:48.773417Z"
    },
    "scrolled": false
   },
   "outputs": [],
   "source": [
    "########### RODAR ###########\n",
    "\n",
    "# df['standard'] = 'High'\n",
    "# df.loc[df['price']<540000, 'standard'] = 'Low'\n",
    "# report = df[['id','date','price','bedrooms','sqft_lot','standard']].sort_values(by=['price'], ascending=False)\n",
    "# report.to_csv('C:/Users/jps/Desktop/Python/repos/python_zero_ao_ds1/datasets/house_rocket/report_aula02.csv', index = False)\n",
    "\n",
    "########### RODAR ###########"
   ]
  },
  {
   "cell_type": "code",
   "execution_count": 9,
   "id": "8f7900cd",
   "metadata": {
    "ExecuteTime": {
     "end_time": "2022-02-11T01:38:56.204887Z",
     "start_time": "2022-02-11T01:38:56.191698Z"
    }
   },
   "outputs": [],
   "source": [
    "# data_map = df[['id','price','lat','long']]\n",
    "# mapa = px.scatter_mapbox(data_map, lat = 'lat', lon = 'long',\n",
    "#                          hover_name = 'id', hover_data = ['price'],\n",
    "#                          color = 'price',\n",
    "#                          size = 'price',\n",
    "#                          color_continuous_scale = px.colors.sequential.Rainbow,\n",
    "#                          size_max=25,\n",
    "#                          zoom = 2,\n",
    "#                          height = 200)\n",
    "# mapa.update_layout(mapbox_style = 'open-street-map')\n",
    "# mapa.update_layout(height = 600, margin={'r':0,'t':0,'l':0,'b':0})\n",
    "# mapa.show()\n",
    "         \n",
    "# mapa.write_html('C:/Users/jps/Desktop/Python/repos/python_zero_ao_ds1/datasets/house_rocket/mapa_house_rocket.html')"
   ]
  },
  {
   "cell_type": "code",
   "execution_count": 10,
   "id": "6dfd4095",
   "metadata": {
    "ExecuteTime": {
     "end_time": "2022-02-11T01:39:03.846866Z",
     "start_time": "2022-02-11T01:39:03.341748Z"
    },
    "scrolled": false
   },
   "outputs": [],
   "source": [
    "########### RODAR ###########\n",
    "\n",
    "# report['date_yr'] = report['date'].dt.year \n",
    "# report['date_ywk'] = report['date'].dt.strftime( '%Y-Week-%U' )  \n",
    "# report['date_day'] = report['date'].dt.strftime( '%d-%m-%Y' )\n",
    "\n",
    "# report_yr = report[['date_yr','price']].groupby(['date_yr']).sum()\n",
    "# report_ywk = report[['date_ywk','price']].groupby(['date_ywk']).mean()\n",
    "# report_day = report[['date_day','price']].groupby(['date_day']).mean()\n",
    "\n",
    "########### RODAR ###########"
   ]
  },
  {
   "cell_type": "code",
   "execution_count": 40,
   "id": "2ce67cab",
   "metadata": {},
   "outputs": [],
   "source": [
    "# # Criando o dashboard: \n",
    "# fig = plt.figure(figsize = (20, 12))\n",
    "# specs = gridspec.GridSpec(ncols = 2, nrows = 2, figure = fig)\n",
    "\n",
    "# # Posicionando os gráficos do dash:\n",
    "# ax1 = fig.add_subplot(specs[0,:])\n",
    "# ax2 = fig.add_subplot(specs[1,0])\n",
    "# ax3 = fig.add_subplot(specs[1,1])\n",
    "\n",
    "# # Gráfico 1:\n",
    "# x_yr = report_yr.index\n",
    "# y_yr = report_yr['price']\n",
    "# ax1.bar(x_yr, y_yr)\n",
    "    \n",
    "# # Gráfico 2:\n",
    "# x_day = report_day.index\n",
    "# y_day = report_day['price']\n",
    "# ax2.plot(x_day, y_day, 'bo', lw = 2.0, ls = '--')\n",
    "# plt.xticks(rotation = 60)\n",
    "\n",
    "# # Gráfico 3:\n",
    "# x_ywk = report_ywk.index\n",
    "# y_ywk = report_ywk['price']\n",
    "# ax3.plot(x_ywk, y_ywk, 'bo', lw = 2.0, ls = '--')\n",
    "# plt.xticks(rotation = 60)\n",
    "\n",
    "# plt.show()"
   ]
  },
  {
   "cell_type": "code",
   "execution_count": 11,
   "id": "279e6ef3",
   "metadata": {
    "ExecuteTime": {
     "end_time": "2022-02-11T01:39:11.641860Z",
     "start_time": "2022-02-11T01:39:11.613277Z"
    },
    "scrolled": false
   },
   "outputs": [],
   "source": [
    "########### RODAR ###########\n",
    "\n",
    "# df = df.drop(columns =['sqft_living15','sqft_lot15'])\n",
    "# # dormitory_type = 1,2,3 para imóvel tipo = studio,apartamento,casa\n",
    "# df['dormitory_type'] = None\n",
    "# df.loc[df['bedrooms']==1, ['dormitory_type']] = 'studio'\n",
    "# df.loc[df['bedrooms']==2, ['dormitory_type']] = 'apartmento'\n",
    "# df.loc[df['bedrooms']>2, ['dormitory_type']] = 'casa'\n",
    "\n",
    "########### RODAR ###########"
   ]
  },
  {
   "cell_type": "code",
   "execution_count": 42,
   "id": "bffe1b48",
   "metadata": {},
   "outputs": [],
   "source": [
    "# quest_2 = df[['bedrooms','price']].groupby(['bedrooms']).sum()\n",
    "# x1 = quest_2.index\n",
    "# y1 = quest_2['price']\n",
    "# plt.figure(figsize = (20, 12))\n",
    "# plt.bar(x1, y1)\n",
    "# plt.show()\n",
    "\n",
    "# quest_3 = df[['yr_built','price']].groupby(['yr_built']).mean()\n",
    "# x2 = quest_3.index\n",
    "# y2 = quest_3['price']\n",
    "# x2_mean = [1900,2020]\n",
    "# y2_mean = [df['price'].mean(),df['price'].mean()]\n",
    "# plt.figure(figsize = (20, 12))\n",
    "# plt.plot(x2, y2, x2_mean, y2_mean, 'bo', lw = 2.0, ls = '--')\n",
    "# plt.show()\n",
    "\n",
    "# quest_4 = df[['dormitory_type','price']].groupby(['dormitory_type']).mean()\n",
    "# x3 = quest_4.index\n",
    "# y3 = quest_4['price']\n",
    "# plt.figure(figsize = (20, 12))\n",
    "# plt.bar(x3, y3, width = 0.5)\n",
    "# plt.show()\n",
    "\n"
   ]
  },
  {
   "cell_type": "code",
   "execution_count": 43,
   "id": "573a4b2e",
   "metadata": {},
   "outputs": [],
   "source": [
    "# fig = plt.figure(figsize = (20, 12))\n",
    "# specs = gridspec.GridSpec(ncols = 2, nrows = 2, figure = fig)\n",
    "# ax1 = fig.add_subplot(specs[0,:])\n",
    "# ax2 = fig.add_subplot(specs[1,0])\n",
    "# ax3 = fig.add_subplot(specs[1,1])\n",
    "\n",
    "# ax1.bar(x1, y1)\n",
    "# ax2.plot(x2, y2, x2_mean, y2_mean, 'bo', lw = 2.0, ls = '--')\n",
    "# ques_3_ = df[['bedrooms','price']].groupby(['bedrooms']).mean()\n",
    "# x3_, y3_ = ques_3_.index,ques_3_['price'] \n",
    "# ax3.bar(x3_, y3_)\n",
    "\n",
    "# plt.show()"
   ]
  },
  {
   "cell_type": "code",
   "execution_count": 44,
   "id": "1b830730",
   "metadata": {},
   "outputs": [],
   "source": [
    "# fig = plt.figure(figsize = (20, 12))\n",
    "# specs = gridspec.GridSpec(ncols = 2, nrows = 1, figure = fig)\n",
    "# ax1 = fig.add_subplot(specs[0,0])\n",
    "# ax3 = fig.add_subplot(specs[0,1])\n",
    "\n",
    "# ax1.bar(x1, y1)\n",
    "# ax3.bar(x3, y3, width = 0.5)\n",
    "\n",
    "# plt.show()"
   ]
  },
  {
   "cell_type": "code",
   "execution_count": 45,
   "id": "caada51a",
   "metadata": {},
   "outputs": [],
   "source": [
    "# quest_5 = df.drop(df[df['yr_renovated']==0].index)\n",
    "# quest_5 = quest_5[['yr_renovated','price']].groupby(['yr_renovated']).mean()\n",
    "# x4 = quest_5.index\n",
    "# y4 = quest_5['price']\n",
    "# plt.figure(figsize = (20, 12))\n",
    "# plt.plot(x4, y4, 'bo', lw = 2.0, ls = '--')\n",
    "# plt.show()"
   ]
  },
  {
   "cell_type": "code",
   "execution_count": 46,
   "id": "0cf9aba6",
   "metadata": {},
   "outputs": [],
   "source": [
    "# fig = plt.figure(figsize = (20, 12))\n",
    "# specs = gridspec.GridSpec(ncols = 1, nrows = 2, figure = fig)\n",
    "# ax2 = fig.add_subplot(specs[0,0])\n",
    "# ax4 = fig.add_subplot(specs[1,0])\n",
    "\n",
    "# ax2.plot(x2, y2, 'bo', lw = 2.0, ls = '--')\n",
    "# ax4.plot(x4, y4, 'bo', lw = 2.0, ls = '--')\n",
    "\n",
    "# plt.show()"
   ]
  },
  {
   "cell_type": "code",
   "execution_count": 47,
   "id": "e7b73874",
   "metadata": {},
   "outputs": [],
   "source": [
    "# # API to get address info from pair of coordinates:\n",
    "\n",
    "# from geopy.geocoders import Nominatim\n",
    "# geolocator = Nominatim(user_agent=\"geoapiExercises\")\n",
    "# df[['house_number','road','neighbourhood','city','county','state']] = None\n",
    "# coord = pd.DataFrame(df['lat'].astype(\"string\")+', '+df['long'].astype(\"string\"))\n",
    "\n",
    "# for i in range(0,len(coord[0])):\n",
    "#     print('Loop: {} / {}'.format(i, len(coord[0])))\n",
    "#     try:\n",
    "#         df.loc[i,['house_number']] = geolocator.reverse(coord[0].loc[i]).raw['address']['house_number']\n",
    "#     except Exception:\n",
    "#         pass\n",
    "#     try:\n",
    "#         df.loc[i,['road']] = geolocator.reverse(coord[0].loc[i]).raw['address']['road']\n",
    "#     except Exception:\n",
    "#         pass\n",
    "#     try:\n",
    "#         df.loc[i,['neighbourhood']] = geolocator.reverse(coord[0].loc[i]).raw['address']['neighbourhood']\n",
    "#     except Exception:\n",
    "#         pass\n",
    "#     try:\n",
    "#         df.loc[i,['city']] = geolocator.reverse(coord[0].loc[i]).raw['address']['city']\n",
    "#     except Exception:\n",
    "#         pass\n",
    "#     try:\n",
    "#         df.loc[i,['county']] = geolocator.reverse(coord[0].loc[i]).raw['address']['county']\n",
    "#     except Exception:\n",
    "#         pass\n",
    "#     try:\n",
    "#         df.loc[i,['state']] = geolocator.reverse(coord[0].loc[i]).raw['address']['state']\n",
    "#     except Exception:\n",
    "#         pass\n",
    "    "
   ]
  },
  {
   "cell_type": "code",
   "execution_count": 48,
   "id": "6e8bf61e",
   "metadata": {},
   "outputs": [],
   "source": [
    "# def update_map(df, waterfront, limit_price, limit_date):\n",
    "#     df_map = df[(df['is_waterfront'] == waterfront) & \n",
    "#                 (df['price']>= limit_price[0]) &\n",
    "#                 (df['price']<= limit_price[1]) &\n",
    "#                 (df['date']>= limit_date)]\n",
    "    \n",
    "#     map_interactive = px.scatter_mapbox(df_map, \n",
    "#                                         lat = 'lat', \n",
    "#                                         lon = 'long',\n",
    "#                                         color = 'level',\n",
    "#                                         size = 'price',\n",
    "#                                         color_continuous_scale = px.colors.sequential.Rainbow,\n",
    "#                                         size_max=15,\n",
    "#                                         zoom = 10)\n",
    "#     map_interactive.update_layout(mapbox_style = 'open-street-map')\n",
    "#     map_interactive.update_layout(height = 600, margin={'r':0,'t':0,'l':0,'b':0})\n",
    "#     map_interactive.show()\n",
    "    \n",
    "# widgets.interactive(update_map, df = fixed(df_map), waterfront = waterfront_bar, limit_price = price_limit, limit_date = date_limit)\n",
    "\n",
    "\n"
   ]
  },
  {
   "cell_type": "code",
   "execution_count": 39,
   "id": "6cf58723",
   "metadata": {},
   "outputs": [],
   "source": [
    "# def update_graphs(df, limit_date):\n",
    "    \n",
    "#     df_map = df\n",
    "#     df_map['date'] = pd.to_datetime(df['date']).dt.strftime('%Y-%m-%d')\n",
    "#     df_map['year'] = pd.to_datetime(df_map['date']).dt.strftime('%Y')\n",
    "#     df_map['week'] = pd.to_datetime(df_map['date']).dt.strftime('%Y-%U')\n",
    "    \n",
    "#     df_map = df[df_map['date']>= limit_date]\n",
    "    \n",
    "#     # Criando o dashboard: \n",
    "#     fig = plt.figure(figsize = (21, 12))\n",
    "#     specs = gridspec.GridSpec(ncols = 2, nrows = 2, figure = fig)\n",
    "\n",
    "#     # Posicionando os gráficos do dash:\n",
    "#     ax1 = fig.add_subplot(specs[0,:])\n",
    "#     ax2 = fig.add_subplot(specs[1,0])\n",
    "#     ax3 = fig.add_subplot(specs[1,1])\n",
    "\n",
    "#     # Gráfico 1:\n",
    "#     df_ax1 = df_map[['id','year']].groupby('year').count().reset_index()\n",
    "#     ax1.bar(df_ax1['year'], df_ax1['id'])\n",
    "\n",
    "#     # Gráfico 2:\n",
    "#     df_ax2 = df_map[['week','price']].groupby('week').mean().reset_index()\n",
    "#     ax2.plot(df_ax2['week'], df_ax2['price'], 'bo', lw = 2.0, ls = '--')\n",
    "#     plt.xticks(rotation = 60)\n",
    "\n",
    "#     # Gráfico 3:\n",
    "#     df_ax3 = df_map[['date','price']].groupby('date').mean().reset_index()\n",
    "#     ax3.plot(df_ax3['date'], df_ax3['price'], 'bo', lw = 2.0, ls = '--')\n",
    "#     plt.xticks(rotation = 60)\n",
    "    \n",
    "# widgets.interactive(update_graphs, df = fixed(df_map), limit_date = date_limit)\n"
   ]
  },
  {
   "cell_type": "code",
   "execution_count": null,
   "id": "e126dbce",
   "metadata": {
    "ExecuteTime": {
     "start_time": "2022-02-11T01:38:33.723Z"
    }
   },
   "outputs": [],
   "source": [
    "# df_map = df[['date','id','lat','long','price']].copy()\n",
    "# df_map['level'] = pd.cut(df_map['price'], [0,321950,450000,645000,15000000], labels = [0,1,2,3]).astype(int64)\n",
    "# df_map['is_waterfront'] = df['waterfront'].apply(lambda x: 'yes' \n",
    "#                                                      if x ==1 \n",
    "#                                                      else 'no')\n",
    "\n",
    "# Interactive buttons:\n",
    "\n",
    "# price_limit = widgets.IntRangeSlider(\n",
    "#     min = 0,\n",
    "#     max = 8000000,\n",
    "#     step = 20000,\n",
    "#     description = 'Price Range:',\n",
    "#     disabled=False,\n",
    "#     orientation='horizontal',\n",
    "#     readout=True,\n",
    "#     readout_format='d',\n",
    "#     style = {'description_width':'initial'}\n",
    "# )\n",
    "#\n",
    "# built_year = widgets.Dropdown(\n",
    "#     options = df['yr_built'].sort_values().unique().tolist(),\n",
    "#     value = 1900,\n",
    "#     description = 'Year of construction',\n",
    "#     disable = False\n",
    "# )\n",
    "#\n",
    "# bathroom_min = widgets.Dropdown(\n",
    "#     options = df['bathrooms'].sort_values().astype(int64).unique().tolist(),\n",
    "#     value = 0,\n",
    "#     description = 'Mín. n° of bathrooms',\n",
    "#     disable = False\n",
    "# )\n",
    "#\n",
    "# mark_condition = widgets.Dropdown(\n",
    "#     options = df['condition'].sort_values().unique().tolist(),\n",
    "#     value = 1,\n",
    "#     description = 'Property condition',\n",
    "#     disable = False\n",
    "# )\n",
    "#\n",
    "# sqft_living_min = widgets.SelectionSlider(\n",
    "#     options = df['sqft_living'].sort_values().unique().tolist(),\n",
    "#     value = df['sqft_living'].min(),\n",
    "#     description = 'Minimum size of living room:',\n",
    "#     continuous_update = False,\n",
    "#     orientation = 'horizontal',\n",
    "#     readout = True\n",
    "# )"
   ]
  },
  {
   "cell_type": "code",
   "execution_count": null,
   "id": "374edc44",
   "metadata": {
    "ExecuteTime": {
     "start_time": "2022-02-11T01:38:36.569Z"
    }
   },
   "outputs": [],
   "source": [
    "# # Questão 1:\n",
    "# df_map[['level','price']].groupby('level').mean()\n",
    "#\n",
    "# # Questão 2:\n",
    "# df['size_type'] = pd.cut(df['sqft_living'], [0,1427,1910,2550,50000], labels = ['Size 0','Size 1','Size 2','Size 3'])\n",
    "# df[['sqft_living', 'size_type']].groupby('size_type').mean()\n",
    "#\n",
    "# # Questão 3:\n",
    "#\n",
    "# def update_map(df, min_sqft_living, limit_price, min_bathroom, condition_mark ,year_built):\n",
    "#     df_map = df[(df['sqft_living'] >= min_sqft_living) &\n",
    "#                 (df['price']>= limit_price[0]) &\n",
    "#                 (df['price']<= limit_price[1]) &\n",
    "#                 (df['bathrooms'] >= min_bathroom) &\n",
    "#                 (df['condition'] == condition_mark) &\n",
    "#                 (df['yr_built'] == year_built)]\n",
    "#\n",
    "#     map_interactive = px.scatter_mapbox(df_map,\n",
    "#                                         lat = 'lat',\n",
    "#                                         lon = 'long',\n",
    "#                                         color = 'price',\n",
    "#                                         size = 'price',\n",
    "#                                         color_continuous_scale = px.colors.sequential.Rainbow,\n",
    "#                                         size_max=15,\n",
    "#                                         zoom = 10)\n",
    "#     map_interactive.update_layout(mapbox_style = 'open-street-map')\n",
    "#     map_interactive.update_layout(height = 600, margin={'r':0,'t':0,'l':0,'b':0})\n",
    "#     map_interactive.show()\n",
    "#\n",
    "# widgets.interactive(update_map, df = fixed(df),\n",
    "#                     min_sqft_living = sqft_living_min,\n",
    "#                     limit_price = price_limit,\n",
    "#                     min_bathroom = bathroom_min,\n",
    "#                     condition_mark = mark_condition,\n",
    "#                     year_built = built_year\n",
    "#                    )"
   ]
  },
  {
   "cell_type": "markdown",
   "id": "bb123967",
   "metadata": {},
   "source": [
    "# How to request an API without timeoutting (Paralell requests):"
   ]
  },
  {
   "cell_type": "code",
   "execution_count": 9,
   "id": "9aa66262",
   "metadata": {},
   "outputs": [
    {
     "name": "stdout",
     "output_type": "stream",
     "text": [
      "0.0\n"
     ]
    }
   ],
   "source": [
    "# ------------------------------\n",
    "# Arquivo defs.py\n",
    "# ------------------------------\n",
    "#\n",
    "# import time\n",
    "# from geopy.geocoders import Nominatim\n",
    "\n",
    "# geolocator = Nominatim( user_agent='geopiExercises' )\n",
    "\n",
    "# def get_longlat( x ):\n",
    "#    index, row = x\n",
    "#    time.sleep(1)\n",
    "#    response = geolocator.reverse( row['query'] )\n",
    "#    address = response.raw['address']\n",
    "\n",
    "#    try:\n",
    "#        place_id = response.raw['place_id'] if 'place_id' in response.raw else 'NA'\n",
    "#        osm_type = response.raw['osm_type'] if 'osm_type' in response.raw else 'NA'\n",
    "\n",
    "#        country = address['country'] if 'country' in address else 'NA'\n",
    "#        country_code = address['country_code'] if 'country_code' in address else 'NA'\n",
    "\n",
    "#        return place_id, osm_type, country, country_code\n",
    "\n",
    "#    except:\n",
    "#        return None, None, None, None\n",
    "\n",
    "import time\n",
    "import defs\n",
    "from multiprocessing import Pool\n",
    "\n",
    "# df['query'] = df[['lat', 'long']].apply( lambda x: str( x['lat'] ) + ',' + str( x['long'] ), axis=1 )\n",
    "# df1 = df[['id', 'query']].head()\n",
    "#\n",
    "# p = Pool(3)\n",
    "# start = time.process_time()\n",
    "# df1[['place_id', 'osm_type', 'country', 'country_code']] = p.map( defs.get_longlat, df1.iterrows() )\n",
    "# print(time.process_time() - start)"
   ]
  },
  {
   "cell_type": "markdown",
   "id": "352d7fd1",
   "metadata": {},
   "source": [
    "# Módulo 5 - ETL basics:"
   ]
  },
  {
   "cell_type": "code",
   "execution_count": null,
   "id": "c21c5de0",
   "metadata": {},
   "outputs": [],
   "source": [
    "# ETL - Extraction - Transformation - Load:"
   ]
  },
  {
   "cell_type": "code",
   "execution_count": 7,
   "id": "fef37146",
   "metadata": {
    "ExecuteTime": {
     "end_time": "2022-02-11T18:42:19.746576Z",
     "start_time": "2022-02-11T18:42:19.722160Z"
    }
   },
   "outputs": [],
   "source": [
    "# Imports:\n",
    "import pandas as pd\n",
    "from IPython.core.display import HTML\n",
    "import seaborn as sns\n",
    "import plotly.express as px\n",
    "import matplotlib.pyplot as plt\n",
    "from matplotlib import gridspec\n",
    "import ipywidgets as widgets\n",
    "from ipywidgets import fixed "
   ]
  },
  {
   "cell_type": "code",
   "execution_count": 8,
   "id": "8549eea3",
   "metadata": {
    "ExecuteTime": {
     "end_time": "2022-02-11T18:42:21.783023Z",
     "start_time": "2022-02-11T18:42:21.714294Z"
    }
   },
   "outputs": [
    {
     "name": "stdout",
     "output_type": "stream",
     "text": [
      "Populating the interactive namespace from numpy and matplotlib\n"
     ]
    },
    {
     "data": {
      "text/plain": "<IPython.core.display.HTML object>",
      "text/html": "<style>.container { width:100% !important; }</style>"
     },
     "metadata": {},
     "output_type": "display_data"
    }
   ],
   "source": [
    "# Functions used:\n",
    "\n",
    "# Used to setup jupyter notebook (wider cells, figure/graph pre-set, etc):\n",
    "def jupyter_settings():\n",
    "    %matplotlib inline\n",
    "    %pylab inline\n",
    "    %config InlineBackend.figure_format = 'retina'\n",
    "\n",
    "    plt.style.use('ggplot')\n",
    "    plt.rcParams['figure.figsize'] = [16, 12]\n",
    "    plt.rcParams['font.size'] = 24\n",
    "\n",
    "    display(HTML('<style>.container { width:100% !important; }</style>'))\n",
    "    pd.options.display.max_columns = None\n",
    "    pd.options.display.max_rows = None\n",
    "    pd.options.display.float_format = '{:,.4f}'.format\n",
    "    pd.set_option('display.expand_frame_repr', False)\n",
    "    pd.set_option('display.max_columns', None)\n",
    "    pd.set_option('display.max_rows', None)\n",
    "\n",
    "    sns.set()\n",
    "    \n",
    "jupyter_settings()\n",
    "\n",
    "# Used to understand the types of each column in a data frame and the statistical information:\n",
    "def show_type_stats(data):\n",
    "    print(\"\\033[1m\",\"COLUMN TYPES: \",\"\\033[0m\",'\\n','\\n',data.dtypes,'\\n')\n",
    "    print(\"\\033[1m\",\"DATAFRAME SHAPE:\",'\\n','\\n',\"\\033[0m\",data.shape,'\\n')\n",
    "    return pd.DataFrame(data.describe())\n",
    "\n",
    "# Used to plot a interactive graph:\n",
    "def interactive_map(df, min_sqft_living, limit_price, min_bathroom, condition_mark ,year_built):\n",
    "    df_map = df[(df['sqft_living'] >= min_sqft_living) & \n",
    "                (df['price']>= limit_price[0]) &\n",
    "                (df['price']<= limit_price[1]) &\n",
    "                (df['bathrooms'] >= min_bathroom) &\n",
    "                (df['condition'] == condition_mark) &\n",
    "                (df['yr_built'] == year_built)]\n",
    "    \n",
    "    map_interactive = px.scatter_mapbox(df_map, \n",
    "                                        lat = 'lat', \n",
    "                                        lon = 'long',\n",
    "                                        color = 'price',\n",
    "                                        size = 'price',\n",
    "                                        color_continuous_scale = px.colors.sequential.Rainbow,\n",
    "                                        size_max=15,\n",
    "                                        zoom = 10)\n",
    "    map_interactive.update_layout(mapbox_style = 'open-street-map')\n",
    "    map_interactive.update_layout(height = 600, margin={'r':0,'t':0,'l':0,'b':0})\n",
    "    map_interactive.show()\n"
   ]
  },
  {
   "cell_type": "code",
   "execution_count": 9,
   "id": "355a8d63",
   "metadata": {
    "ExecuteTime": {
     "end_time": "2022-02-11T18:42:28.405100Z",
     "start_time": "2022-02-11T18:42:28.244702Z"
    },
    "scrolled": false
   },
   "outputs": [
    {
     "name": "stdout",
     "output_type": "stream",
     "text": [
      "\u001B[1m COLUMN TYPES:  \u001B[0m \n",
      " \n",
      " id                 int64\n",
      "date              object\n",
      "price            float64\n",
      "bedrooms           int64\n",
      "bathrooms        float64\n",
      "sqft_living        int64\n",
      "sqft_lot           int64\n",
      "floors           float64\n",
      "waterfront         int64\n",
      "view               int64\n",
      "condition          int64\n",
      "grade              int64\n",
      "sqft_above         int64\n",
      "sqft_basement      int64\n",
      "yr_built           int64\n",
      "yr_renovated       int64\n",
      "zipcode            int64\n",
      "lat              float64\n",
      "long             float64\n",
      "sqft_living15      int64\n",
      "sqft_lot15         int64\n",
      "dtype: object \n",
      "\n",
      "\u001B[1m DATAFRAME SHAPE: \n",
      " \n",
      " \u001B[0m (21613, 21) \n",
      "\n"
     ]
    },
    {
     "data": {
      "text/plain": "                      id          price    bedrooms   bathrooms  sqft_living       sqft_lot      floors  waterfront        view   condition       grade  sqft_above  sqft_basement    yr_built  yr_renovated     zipcode         lat        long  sqft_living15   sqft_lot15\ncount        21,613.0000    21,613.0000 21,613.0000 21,613.0000  21,613.0000    21,613.0000 21,613.0000 21,613.0000 21,613.0000 21,613.0000 21,613.0000 21,613.0000    21,613.0000 21,613.0000   21,613.0000 21,613.0000 21,613.0000 21,613.0000    21,613.0000  21,613.0000\nmean  4,580,301,520.8650   540,088.1418      3.3708      2.1148   2,079.8997    15,106.9676      1.4943      0.0075      0.2343      3.4094      7.6569  1,788.3907       291.5090  1,971.0051       84.4023 98,077.9398     47.5601   -122.2139     1,986.5525  12,768.4557\nstd   2,876,565,571.3120   367,127.1965      0.9301      0.7702     918.4409    41,420.5115      0.5400      0.0865      0.7663      0.6507      1.1755    828.0910       442.5750     29.3734      401.6792     53.5050      0.1386      0.1408       685.3913  27,304.1796\nmin       1,000,102.0000    75,000.0000      0.0000      0.0000     290.0000       520.0000      1.0000      0.0000      0.0000      1.0000      1.0000    290.0000         0.0000  1,900.0000        0.0000 98,001.0000     47.1559   -122.5190       399.0000     651.0000\n25%   2,123,049,194.0000   321,950.0000      3.0000      1.7500   1,427.0000     5,040.0000      1.0000      0.0000      0.0000      3.0000      7.0000  1,190.0000         0.0000  1,951.0000        0.0000 98,033.0000     47.4710   -122.3280     1,490.0000   5,100.0000\n50%   3,904,930,410.0000   450,000.0000      3.0000      2.2500   1,910.0000     7,618.0000      1.5000      0.0000      0.0000      3.0000      7.0000  1,560.0000         0.0000  1,975.0000        0.0000 98,065.0000     47.5718   -122.2300     1,840.0000   7,620.0000\n75%   7,308,900,445.0000   645,000.0000      4.0000      2.5000   2,550.0000    10,688.0000      2.0000      0.0000      0.0000      4.0000      8.0000  2,210.0000       560.0000  1,997.0000        0.0000 98,118.0000     47.6780   -122.1250     2,360.0000  10,083.0000\nmax   9,900,000,190.0000 7,700,000.0000     33.0000      8.0000  13,540.0000 1,651,359.0000      3.5000      1.0000      4.0000      5.0000     13.0000  9,410.0000     4,820.0000  2,015.0000    2,015.0000 98,199.0000     47.7776   -121.3150     6,210.0000 871,200.0000",
      "text/html": "<div>\n<style scoped>\n    .dataframe tbody tr th:only-of-type {\n        vertical-align: middle;\n    }\n\n    .dataframe tbody tr th {\n        vertical-align: top;\n    }\n\n    .dataframe thead th {\n        text-align: right;\n    }\n</style>\n<table border=\"1\" class=\"dataframe\">\n  <thead>\n    <tr style=\"text-align: right;\">\n      <th></th>\n      <th>id</th>\n      <th>price</th>\n      <th>bedrooms</th>\n      <th>bathrooms</th>\n      <th>sqft_living</th>\n      <th>sqft_lot</th>\n      <th>floors</th>\n      <th>waterfront</th>\n      <th>view</th>\n      <th>condition</th>\n      <th>grade</th>\n      <th>sqft_above</th>\n      <th>sqft_basement</th>\n      <th>yr_built</th>\n      <th>yr_renovated</th>\n      <th>zipcode</th>\n      <th>lat</th>\n      <th>long</th>\n      <th>sqft_living15</th>\n      <th>sqft_lot15</th>\n    </tr>\n  </thead>\n  <tbody>\n    <tr>\n      <th>count</th>\n      <td>21,613.0000</td>\n      <td>21,613.0000</td>\n      <td>21,613.0000</td>\n      <td>21,613.0000</td>\n      <td>21,613.0000</td>\n      <td>21,613.0000</td>\n      <td>21,613.0000</td>\n      <td>21,613.0000</td>\n      <td>21,613.0000</td>\n      <td>21,613.0000</td>\n      <td>21,613.0000</td>\n      <td>21,613.0000</td>\n      <td>21,613.0000</td>\n      <td>21,613.0000</td>\n      <td>21,613.0000</td>\n      <td>21,613.0000</td>\n      <td>21,613.0000</td>\n      <td>21,613.0000</td>\n      <td>21,613.0000</td>\n      <td>21,613.0000</td>\n    </tr>\n    <tr>\n      <th>mean</th>\n      <td>4,580,301,520.8650</td>\n      <td>540,088.1418</td>\n      <td>3.3708</td>\n      <td>2.1148</td>\n      <td>2,079.8997</td>\n      <td>15,106.9676</td>\n      <td>1.4943</td>\n      <td>0.0075</td>\n      <td>0.2343</td>\n      <td>3.4094</td>\n      <td>7.6569</td>\n      <td>1,788.3907</td>\n      <td>291.5090</td>\n      <td>1,971.0051</td>\n      <td>84.4023</td>\n      <td>98,077.9398</td>\n      <td>47.5601</td>\n      <td>-122.2139</td>\n      <td>1,986.5525</td>\n      <td>12,768.4557</td>\n    </tr>\n    <tr>\n      <th>std</th>\n      <td>2,876,565,571.3120</td>\n      <td>367,127.1965</td>\n      <td>0.9301</td>\n      <td>0.7702</td>\n      <td>918.4409</td>\n      <td>41,420.5115</td>\n      <td>0.5400</td>\n      <td>0.0865</td>\n      <td>0.7663</td>\n      <td>0.6507</td>\n      <td>1.1755</td>\n      <td>828.0910</td>\n      <td>442.5750</td>\n      <td>29.3734</td>\n      <td>401.6792</td>\n      <td>53.5050</td>\n      <td>0.1386</td>\n      <td>0.1408</td>\n      <td>685.3913</td>\n      <td>27,304.1796</td>\n    </tr>\n    <tr>\n      <th>min</th>\n      <td>1,000,102.0000</td>\n      <td>75,000.0000</td>\n      <td>0.0000</td>\n      <td>0.0000</td>\n      <td>290.0000</td>\n      <td>520.0000</td>\n      <td>1.0000</td>\n      <td>0.0000</td>\n      <td>0.0000</td>\n      <td>1.0000</td>\n      <td>1.0000</td>\n      <td>290.0000</td>\n      <td>0.0000</td>\n      <td>1,900.0000</td>\n      <td>0.0000</td>\n      <td>98,001.0000</td>\n      <td>47.1559</td>\n      <td>-122.5190</td>\n      <td>399.0000</td>\n      <td>651.0000</td>\n    </tr>\n    <tr>\n      <th>25%</th>\n      <td>2,123,049,194.0000</td>\n      <td>321,950.0000</td>\n      <td>3.0000</td>\n      <td>1.7500</td>\n      <td>1,427.0000</td>\n      <td>5,040.0000</td>\n      <td>1.0000</td>\n      <td>0.0000</td>\n      <td>0.0000</td>\n      <td>3.0000</td>\n      <td>7.0000</td>\n      <td>1,190.0000</td>\n      <td>0.0000</td>\n      <td>1,951.0000</td>\n      <td>0.0000</td>\n      <td>98,033.0000</td>\n      <td>47.4710</td>\n      <td>-122.3280</td>\n      <td>1,490.0000</td>\n      <td>5,100.0000</td>\n    </tr>\n    <tr>\n      <th>50%</th>\n      <td>3,904,930,410.0000</td>\n      <td>450,000.0000</td>\n      <td>3.0000</td>\n      <td>2.2500</td>\n      <td>1,910.0000</td>\n      <td>7,618.0000</td>\n      <td>1.5000</td>\n      <td>0.0000</td>\n      <td>0.0000</td>\n      <td>3.0000</td>\n      <td>7.0000</td>\n      <td>1,560.0000</td>\n      <td>0.0000</td>\n      <td>1,975.0000</td>\n      <td>0.0000</td>\n      <td>98,065.0000</td>\n      <td>47.5718</td>\n      <td>-122.2300</td>\n      <td>1,840.0000</td>\n      <td>7,620.0000</td>\n    </tr>\n    <tr>\n      <th>75%</th>\n      <td>7,308,900,445.0000</td>\n      <td>645,000.0000</td>\n      <td>4.0000</td>\n      <td>2.5000</td>\n      <td>2,550.0000</td>\n      <td>10,688.0000</td>\n      <td>2.0000</td>\n      <td>0.0000</td>\n      <td>0.0000</td>\n      <td>4.0000</td>\n      <td>8.0000</td>\n      <td>2,210.0000</td>\n      <td>560.0000</td>\n      <td>1,997.0000</td>\n      <td>0.0000</td>\n      <td>98,118.0000</td>\n      <td>47.6780</td>\n      <td>-122.1250</td>\n      <td>2,360.0000</td>\n      <td>10,083.0000</td>\n    </tr>\n    <tr>\n      <th>max</th>\n      <td>9,900,000,190.0000</td>\n      <td>7,700,000.0000</td>\n      <td>33.0000</td>\n      <td>8.0000</td>\n      <td>13,540.0000</td>\n      <td>1,651,359.0000</td>\n      <td>3.5000</td>\n      <td>1.0000</td>\n      <td>4.0000</td>\n      <td>5.0000</td>\n      <td>13.0000</td>\n      <td>9,410.0000</td>\n      <td>4,820.0000</td>\n      <td>2,015.0000</td>\n      <td>2,015.0000</td>\n      <td>98,199.0000</td>\n      <td>47.7776</td>\n      <td>-121.3150</td>\n      <td>6,210.0000</td>\n      <td>871,200.0000</td>\n    </tr>\n  </tbody>\n</table>\n</div>"
     },
     "execution_count": 9,
     "metadata": {},
     "output_type": "execute_result"
    }
   ],
   "source": [
    "# Importing data into dataframe:\n",
    "path = 'C:/Users/jps/Desktop/Python/repos/python_zero_ao_ds1/datasets/house_rocket/kc_house_data.csv'\n",
    "df = pd.read_csv(path)\n",
    "\n",
    "# Understanding data:\n",
    "show_type_stats(df)"
   ]
  },
  {
   "cell_type": "code",
   "execution_count": 10,
   "id": "b0ad589a",
   "metadata": {
    "ExecuteTime": {
     "end_time": "2022-02-11T18:42:38.000341Z",
     "start_time": "2022-02-11T18:42:37.547695Z"
    }
   },
   "outputs": [
    {
     "name": "stdout",
     "output_type": "stream",
     "text": [
      "\u001B[1m COLUMN TYPES:  \u001B[0m \n",
      " \n",
      " id                         int64\n",
      "date              datetime64[ns]\n",
      "price                    float64\n",
      "bedrooms                   int64\n",
      "bathrooms                float64\n",
      "sqft_living                int64\n",
      "sqft_lot                   int64\n",
      "floors                   float64\n",
      "waterfront                 int64\n",
      "view                       int64\n",
      "condition                  int64\n",
      "grade                      int64\n",
      "sqft_above                 int64\n",
      "sqft_basement              int64\n",
      "yr_built                   int64\n",
      "yr_renovated               int64\n",
      "zipcode                    int64\n",
      "lat                      float64\n",
      "long                     float64\n",
      "dormitory_type            object\n",
      "standard                category\n",
      "is_waterfront             object\n",
      "size_type               category\n",
      "date_yr                    int64\n",
      "date_ywk                  object\n",
      "date_day                  object\n",
      "dtype: object \n",
      "\n",
      "\u001B[1m DATAFRAME SHAPE: \n",
      " \n",
      " \u001B[0m (21613, 26) \n",
      "\n"
     ]
    },
    {
     "data": {
      "text/plain": "                      id          price    bedrooms   bathrooms  sqft_living       sqft_lot      floors  waterfront        view   condition       grade  sqft_above  sqft_basement    yr_built  yr_renovated     zipcode         lat        long     date_yr\ncount        21,613.0000    21,613.0000 21,613.0000 21,613.0000  21,613.0000    21,613.0000 21,613.0000 21,613.0000 21,613.0000 21,613.0000 21,613.0000 21,613.0000    21,613.0000 21,613.0000   21,613.0000 21,613.0000 21,613.0000 21,613.0000 21,613.0000\nmean  4,580,301,520.8650   540,088.1418      3.3708      2.1148   2,079.8997    15,106.9676      1.4943      0.0075      0.2343      3.4094      7.6569  1,788.3907       291.5090  1,971.0051       84.4023 98,077.9398     47.5601   -122.2139  2,014.3230\nstd   2,876,565,571.3120   367,127.1965      0.9301      0.7702     918.4409    41,420.5115      0.5400      0.0865      0.7663      0.6507      1.1755    828.0910       442.5750     29.3734      401.6792     53.5050      0.1386      0.1408      0.4676\nmin       1,000,102.0000    75,000.0000      0.0000      0.0000     290.0000       520.0000      1.0000      0.0000      0.0000      1.0000      1.0000    290.0000         0.0000  1,900.0000        0.0000 98,001.0000     47.1559   -122.5190  2,014.0000\n25%   2,123,049,194.0000   321,950.0000      3.0000      1.7500   1,427.0000     5,040.0000      1.0000      0.0000      0.0000      3.0000      7.0000  1,190.0000         0.0000  1,951.0000        0.0000 98,033.0000     47.4710   -122.3280  2,014.0000\n50%   3,904,930,410.0000   450,000.0000      3.0000      2.2500   1,910.0000     7,618.0000      1.5000      0.0000      0.0000      3.0000      7.0000  1,560.0000         0.0000  1,975.0000        0.0000 98,065.0000     47.5718   -122.2300  2,014.0000\n75%   7,308,900,445.0000   645,000.0000      4.0000      2.5000   2,550.0000    10,688.0000      2.0000      0.0000      0.0000      4.0000      8.0000  2,210.0000       560.0000  1,997.0000        0.0000 98,118.0000     47.6780   -122.1250  2,015.0000\nmax   9,900,000,190.0000 7,700,000.0000     33.0000      8.0000  13,540.0000 1,651,359.0000      3.5000      1.0000      4.0000      5.0000     13.0000  9,410.0000     4,820.0000  2,015.0000    2,015.0000 98,199.0000     47.7776   -121.3150  2,015.0000",
      "text/html": "<div>\n<style scoped>\n    .dataframe tbody tr th:only-of-type {\n        vertical-align: middle;\n    }\n\n    .dataframe tbody tr th {\n        vertical-align: top;\n    }\n\n    .dataframe thead th {\n        text-align: right;\n    }\n</style>\n<table border=\"1\" class=\"dataframe\">\n  <thead>\n    <tr style=\"text-align: right;\">\n      <th></th>\n      <th>id</th>\n      <th>price</th>\n      <th>bedrooms</th>\n      <th>bathrooms</th>\n      <th>sqft_living</th>\n      <th>sqft_lot</th>\n      <th>floors</th>\n      <th>waterfront</th>\n      <th>view</th>\n      <th>condition</th>\n      <th>grade</th>\n      <th>sqft_above</th>\n      <th>sqft_basement</th>\n      <th>yr_built</th>\n      <th>yr_renovated</th>\n      <th>zipcode</th>\n      <th>lat</th>\n      <th>long</th>\n      <th>date_yr</th>\n    </tr>\n  </thead>\n  <tbody>\n    <tr>\n      <th>count</th>\n      <td>21,613.0000</td>\n      <td>21,613.0000</td>\n      <td>21,613.0000</td>\n      <td>21,613.0000</td>\n      <td>21,613.0000</td>\n      <td>21,613.0000</td>\n      <td>21,613.0000</td>\n      <td>21,613.0000</td>\n      <td>21,613.0000</td>\n      <td>21,613.0000</td>\n      <td>21,613.0000</td>\n      <td>21,613.0000</td>\n      <td>21,613.0000</td>\n      <td>21,613.0000</td>\n      <td>21,613.0000</td>\n      <td>21,613.0000</td>\n      <td>21,613.0000</td>\n      <td>21,613.0000</td>\n      <td>21,613.0000</td>\n    </tr>\n    <tr>\n      <th>mean</th>\n      <td>4,580,301,520.8650</td>\n      <td>540,088.1418</td>\n      <td>3.3708</td>\n      <td>2.1148</td>\n      <td>2,079.8997</td>\n      <td>15,106.9676</td>\n      <td>1.4943</td>\n      <td>0.0075</td>\n      <td>0.2343</td>\n      <td>3.4094</td>\n      <td>7.6569</td>\n      <td>1,788.3907</td>\n      <td>291.5090</td>\n      <td>1,971.0051</td>\n      <td>84.4023</td>\n      <td>98,077.9398</td>\n      <td>47.5601</td>\n      <td>-122.2139</td>\n      <td>2,014.3230</td>\n    </tr>\n    <tr>\n      <th>std</th>\n      <td>2,876,565,571.3120</td>\n      <td>367,127.1965</td>\n      <td>0.9301</td>\n      <td>0.7702</td>\n      <td>918.4409</td>\n      <td>41,420.5115</td>\n      <td>0.5400</td>\n      <td>0.0865</td>\n      <td>0.7663</td>\n      <td>0.6507</td>\n      <td>1.1755</td>\n      <td>828.0910</td>\n      <td>442.5750</td>\n      <td>29.3734</td>\n      <td>401.6792</td>\n      <td>53.5050</td>\n      <td>0.1386</td>\n      <td>0.1408</td>\n      <td>0.4676</td>\n    </tr>\n    <tr>\n      <th>min</th>\n      <td>1,000,102.0000</td>\n      <td>75,000.0000</td>\n      <td>0.0000</td>\n      <td>0.0000</td>\n      <td>290.0000</td>\n      <td>520.0000</td>\n      <td>1.0000</td>\n      <td>0.0000</td>\n      <td>0.0000</td>\n      <td>1.0000</td>\n      <td>1.0000</td>\n      <td>290.0000</td>\n      <td>0.0000</td>\n      <td>1,900.0000</td>\n      <td>0.0000</td>\n      <td>98,001.0000</td>\n      <td>47.1559</td>\n      <td>-122.5190</td>\n      <td>2,014.0000</td>\n    </tr>\n    <tr>\n      <th>25%</th>\n      <td>2,123,049,194.0000</td>\n      <td>321,950.0000</td>\n      <td>3.0000</td>\n      <td>1.7500</td>\n      <td>1,427.0000</td>\n      <td>5,040.0000</td>\n      <td>1.0000</td>\n      <td>0.0000</td>\n      <td>0.0000</td>\n      <td>3.0000</td>\n      <td>7.0000</td>\n      <td>1,190.0000</td>\n      <td>0.0000</td>\n      <td>1,951.0000</td>\n      <td>0.0000</td>\n      <td>98,033.0000</td>\n      <td>47.4710</td>\n      <td>-122.3280</td>\n      <td>2,014.0000</td>\n    </tr>\n    <tr>\n      <th>50%</th>\n      <td>3,904,930,410.0000</td>\n      <td>450,000.0000</td>\n      <td>3.0000</td>\n      <td>2.2500</td>\n      <td>1,910.0000</td>\n      <td>7,618.0000</td>\n      <td>1.5000</td>\n      <td>0.0000</td>\n      <td>0.0000</td>\n      <td>3.0000</td>\n      <td>7.0000</td>\n      <td>1,560.0000</td>\n      <td>0.0000</td>\n      <td>1,975.0000</td>\n      <td>0.0000</td>\n      <td>98,065.0000</td>\n      <td>47.5718</td>\n      <td>-122.2300</td>\n      <td>2,014.0000</td>\n    </tr>\n    <tr>\n      <th>75%</th>\n      <td>7,308,900,445.0000</td>\n      <td>645,000.0000</td>\n      <td>4.0000</td>\n      <td>2.5000</td>\n      <td>2,550.0000</td>\n      <td>10,688.0000</td>\n      <td>2.0000</td>\n      <td>0.0000</td>\n      <td>0.0000</td>\n      <td>4.0000</td>\n      <td>8.0000</td>\n      <td>2,210.0000</td>\n      <td>560.0000</td>\n      <td>1,997.0000</td>\n      <td>0.0000</td>\n      <td>98,118.0000</td>\n      <td>47.6780</td>\n      <td>-122.1250</td>\n      <td>2,015.0000</td>\n    </tr>\n    <tr>\n      <th>max</th>\n      <td>9,900,000,190.0000</td>\n      <td>7,700,000.0000</td>\n      <td>33.0000</td>\n      <td>8.0000</td>\n      <td>13,540.0000</td>\n      <td>1,651,359.0000</td>\n      <td>3.5000</td>\n      <td>1.0000</td>\n      <td>4.0000</td>\n      <td>5.0000</td>\n      <td>13.0000</td>\n      <td>9,410.0000</td>\n      <td>4,820.0000</td>\n      <td>2,015.0000</td>\n      <td>2,015.0000</td>\n      <td>98,199.0000</td>\n      <td>47.7776</td>\n      <td>-121.3150</td>\n      <td>2,015.0000</td>\n    </tr>\n  </tbody>\n</table>\n</div>"
     },
     "execution_count": 10,
     "metadata": {},
     "output_type": "execute_result"
    }
   ],
   "source": [
    "# Drop useless columns:\n",
    "df = df.drop(columns =['sqft_living15','sqft_lot15'])\n",
    "\n",
    "# Date to datetime64 in YYYY-MM-DD format:\n",
    "df['date'] = df['date'].str.slice(stop=8)\n",
    "df['date'] = pd.to_datetime(df['date'], format='%Y%m%d')\n",
    "\n",
    "# Converting sqft to m² in all columns except sqft_living because that will be done after classification with benchmark:\n",
    "df[['sqft_lot','sqft_above','sqft_basement']].apply(lambda x: x*0.092903)\n",
    "\n",
    "# Classification of N° BEDROOMS, PRICE, WATERFRONT and SQFT_LIVING through benchmark:\n",
    "    # Dormitory types definition:\n",
    "df['dormitory_type'] = df['bedrooms'].apply(lambda x: 'studio' if (x == 0)|(x == 1) else ('apartment' if x == 2 else 'house'))\n",
    "\n",
    "    # Standard definition:\n",
    "df['standard'] = pd.cut(df['price'], [0, 540000, 10000000], labels = ['High','Low'])\n",
    "\n",
    "    # Water front definition:\n",
    "df['is_waterfront'] = df['waterfront'].apply(lambda x: 'yes' if (x == 1) else 'no')\n",
    "\n",
    "    # Size type definition:\n",
    "df['size_type'] = pd.cut(df['sqft_living'], [0,1427,1910,2550,50000], labels = ['Size 0','Size 1','Size 2','Size 3'])\n",
    "\n",
    "# Creating a year, week and day column:\n",
    "df['date_yr'] = df['date'].dt.year \n",
    "df['date_ywk'] = df['date'].dt.strftime( '%Y-Week-%U' )  \n",
    "df['date_day'] = df['date'].dt.strftime( '%d-%m-%Y' )\n",
    "\n",
    "\n",
    "# Evaluating data again before visualazing:\n",
    "show_type_stats(df)"
   ]
  },
  {
   "cell_type": "code",
   "execution_count": 11,
   "id": "f34953e5",
   "metadata": {},
   "outputs": [],
   "source": [
    "# Carga:"
   ]
  },
  {
   "cell_type": "code",
   "execution_count": null,
   "id": "0ef77a5e",
   "metadata": {
    "ExecuteTime": {
     "end_time": "2022-02-11T18:42:48.347375Z",
     "start_time": "2022-02-11T18:42:40.376683Z"
    },
    "pycharm": {
     "is_executing": true,
     "name": "#%%\n"
    }
   },
   "outputs": [],
   "source": [
    "# Interactive buttons:\n",
    "\n",
    "    # Slider for mín-max price filtering:\n",
    "price_limit = widgets.IntRangeSlider(\n",
    "    min = 0,\n",
    "    max = 8000000,\n",
    "    step = 20000,\n",
    "    description = 'Price Range:',\n",
    "    disabled=False,\n",
    "    orientation='horizontal',\n",
    "    readout=True,\n",
    "    readout_format='d',\n",
    "    style = {'description_width':'initial'}\n",
    ")\n",
    "\n",
    "    # Dropdown for choosing minimum built year:\n",
    "built_year = widgets.Dropdown(\n",
    "    options = df['yr_built'].sort_values().unique().tolist(),\n",
    "    value = 1900,\n",
    "    description = 'Year of construction',\n",
    "    disable = False\n",
    ")\n",
    "\n",
    "    # Dropdown for minimum number of bathrooms:\n",
    "bathroom_min = widgets.Dropdown(\n",
    "    options = df['bathrooms'].sort_values().astype(int64).unique().tolist(),\n",
    "    value = 0,\n",
    "    description = 'Mín. n° of bathrooms',\n",
    "    disable = False\n",
    ")\n",
    "\n",
    "    # Dropdown for minimum condition grade:\n",
    "mark_condition = widgets.Dropdown(\n",
    "    options = df['condition'].sort_values().unique().tolist(),\n",
    "    value = 1,\n",
    "    description = 'Property condition',\n",
    "    disable = False\n",
    ")\n",
    "\n",
    "    # Slider for minimum living area filtering:\n",
    "sqft_living_min = widgets.SelectionSlider(\n",
    "    options = df['sqft_living'].sort_values().unique().tolist(),\n",
    "    value = df['sqft_living'].min(),\n",
    "    description = 'Minimum size of living room:',\n",
    "    continuous_update = False,\n",
    "    orientation = 'horizontal',\n",
    "    readout = True\n",
    ")\n",
    "\n",
    "    # Calling function for the map and choosing the buttons:\n",
    "widgets.interactive(interactive_map, df = fixed(df),\n",
    "                    min_sqft_living = sqft_living_min,\n",
    "                    limit_price = price_limit,\n",
    "                    min_bathroom = bathroom_min,\n",
    "                    condition_mark = mark_condition,\n",
    "                    year_built = built_year \n",
    "                   )"
   ]
  }
 ],
 "metadata": {
  "kernelspec": {
   "display_name": "Python 3 (ipykernel)",
   "language": "python",
   "name": "python3"
  },
  "language_info": {
   "codemirror_mode": {
    "name": "ipython",
    "version": 3
   },
   "file_extension": ".py",
   "mimetype": "text/x-python",
   "name": "python",
   "nbconvert_exporter": "python",
   "pygments_lexer": "ipython3",
   "version": "3.9.7"
  },
  "varInspector": {
   "cols": {
    "lenName": 16,
    "lenType": 16,
    "lenVar": 40
   },
   "kernels_config": {
    "python": {
     "delete_cmd_postfix": "",
     "delete_cmd_prefix": "del ",
     "library": "var_list.py",
     "varRefreshCmd": "print(var_dic_list())"
    },
    "r": {
     "delete_cmd_postfix": ") ",
     "delete_cmd_prefix": "rm(",
     "library": "var_list.r",
     "varRefreshCmd": "cat(var_dic_list()) "
    }
   },
   "types_to_exclude": [
    "module",
    "function",
    "builtin_function_or_method",
    "instance",
    "_Feature"
   ],
   "window_display": false
  }
 },
 "nbformat": 4,
 "nbformat_minor": 5
}