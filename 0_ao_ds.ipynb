{
 "cells": [
  {
   "cell_type": "code",
   "execution_count": 1,
   "id": "222e72e3",
   "metadata": {
    "scrolled": false
   },
   "outputs": [],
   "source": [
    "########### RODAR ###########\n",
    "\n",
    "import pandas as pd\n",
    "from IPython.core.display import HTML\n",
    "import seaborn as sns\n",
    "import plotly.express as px\n",
    "import matplotlib.pyplot as plt\n",
    "import calendar\n",
    "from matplotlib import gridspec\n",
    "import ipywidgets as widgets\n",
    "from ipywidgets import fixed \n",
    "\n",
    "########### RODAR ###########"
   ]
  },
  {
   "cell_type": "code",
   "execution_count": 2,
   "id": "66cfc14b",
   "metadata": {
    "scrolled": false
   },
   "outputs": [
    {
     "name": "stdout",
     "output_type": "stream",
     "text": [
      "Populating the interactive namespace from numpy and matplotlib\n"
     ]
    },
    {
     "data": {
      "text/html": [
       "<style>.container { width:100% !important; }</style>"
      ],
      "text/plain": [
       "<IPython.core.display.HTML object>"
      ]
     },
     "metadata": {},
     "output_type": "display_data"
    }
   ],
   "source": [
    "########### RODAR ###########\n",
    "\n",
    "path = 'C:/Users/jps/Desktop/Python/repos/python_zero_ao_ds1/datasets/house_rocket/kc_house_data.csv'\n",
    "df = pd.read_csv(path)\n",
    "\n",
    "describe_df = df.describe()\n",
    "df['date'] = df['date'].str.slice(stop=8)\n",
    "df['date'] = pd.to_datetime(df['date'], format='%Y%m%d')\n",
    "for i in ['sqft_lot','sqft_above','sqft_basement','sqft_lot15','sqft_living15']:\n",
    "    df[i]=df[i]*(0.092903)\n",
    "\n",
    "def jupyter_settings():\n",
    "    %matplotlib inline\n",
    "    %pylab inline\n",
    "    %config InlineBackend.figure_format = 'retina'\n",
    "\n",
    "    plt.style.use('ggplot')\n",
    "    plt.rcParams['figure.figsize'] = [16, 12]\n",
    "    plt.rcParams['font.size'] = 24\n",
    "\n",
    "    display(HTML('<style>.container { width:100% !important; }</style>'))\n",
    "    pd.options.display.max_columns = None\n",
    "    pd.options.display.max_rows = None\n",
    "    pd.options.display.float_format = '{:,.4f}'.format\n",
    "    pd.set_option('display.expand_frame_repr', False)\n",
    "    pd.set_option('display.max_columns', None)\n",
    "    pd.set_option('display.max_rows', None)\n",
    "\n",
    "    sns.set()\n",
    "    \n",
    "jupyter_settings()\n",
    "\n",
    "########### RODAR ###########"
   ]
  },
  {
   "cell_type": "code",
   "execution_count": 3,
   "id": "c7082c35",
   "metadata": {},
   "outputs": [],
   "source": [
    "# Pergunta 1:\n",
    "\n",
    "# df['date'].count()"
   ]
  },
  {
   "cell_type": "code",
   "execution_count": 4,
   "id": "14d9c4d3",
   "metadata": {
    "scrolled": false
   },
   "outputs": [],
   "source": [
    "# Pergunta 2:\n",
    "\n",
    "# len(list(df.columns))-2"
   ]
  },
  {
   "cell_type": "code",
   "execution_count": 5,
   "id": "2068ed34",
   "metadata": {
    "scrolled": false
   },
   "outputs": [],
   "source": [
    "# Pergunta 3:\n",
    "\n",
    "# list(df.drop(['id','date'],axis=1).columns)"
   ]
  },
  {
   "cell_type": "code",
   "execution_count": 6,
   "id": "b46d87ca",
   "metadata": {
    "scrolled": false
   },
   "outputs": [],
   "source": [
    "# Pergunta 4:\n",
    "\n",
    "# df.sort_values(by=['price'], ascending=False).loc[7252]"
   ]
  },
  {
   "cell_type": "code",
   "execution_count": 7,
   "id": "5439d31f",
   "metadata": {
    "scrolled": false
   },
   "outputs": [],
   "source": [
    "# # Pergunta 6:\n",
    "# print('A6: ',df['bedrooms'].sum())\n",
    "# # Pergunta 7:\n",
    "# print('A7: ',(df['bathrooms'] == 2).sum())\n",
    "# # Pergunta 8:\n",
    "# print('A8: ',df['price'].mean())\n",
    "# # Pergunta 9:\n",
    "# print('A9: ', df[['price','bathrooms']][df['bathrooms'] == 2].mean()[0])\n",
    "# # Pergunta 10:\n",
    "# print('A10:', df[['price','bedrooms']][df['bedrooms'] == 3].min()[0])\n",
    "# # Pergunta 11:\n",
    "# print('A11:', df[df['sqft_living'] > (300/0.093)].count()[0])\n",
    "# # Pergunta 12:\n",
    "# print('A12:', df[df['floors'] > 2].count()[0])\n",
    "# # Pergunta 13:\n",
    "# print('A13:', df[df['waterfront'] == 1].count()[0])\n",
    "# # Pergunta 14:\n",
    "# print('A14:', df[(df['bedrooms'] == 3)&(df['waterfront'] == 1)].count()[0])\n",
    "# # Pergunta 15:\n",
    "# print('A15:', df['bathrooms'][(df['sqft_living'] > (300/0.093)) & (df['sqft_living'] > 2)].count())\n"
   ]
  },
  {
   "cell_type": "code",
   "execution_count": 8,
   "id": "39927ad9",
   "metadata": {
    "scrolled": false
   },
   "outputs": [],
   "source": [
    "########### RODAR ###########\n",
    "\n",
    "df['standard'] = 'High'\n",
    "df.loc[df['price']<540000, 'standard'] = 'Low'\n",
    "report = df[['id','date','price','bedrooms','sqft_lot','standard']].sort_values(by=['price'], ascending=False)\n",
    "report.to_csv('C:/Users/jps/Desktop/Python/repos/python_zero_ao_ds1/datasets/house_rocket/report_aula02.csv', index = False)\n",
    "\n",
    "########### RODAR ###########"
   ]
  },
  {
   "cell_type": "code",
   "execution_count": 9,
   "id": "8f7900cd",
   "metadata": {},
   "outputs": [],
   "source": [
    "# data_map = df[['id','price','lat','long']]\n",
    "# mapa = px.scatter_mapbox(data_map, lat = 'lat', lon = 'long',\n",
    "#                          hover_name = 'id', hover_data = ['price'],\n",
    "#                          color = 'price',\n",
    "#                          size = 'price',\n",
    "#                          color_continuous_scale = px.colors.sequential.Rainbow,\n",
    "#                          size_max=25,\n",
    "#                          zoom = 2,\n",
    "#                          height = 200)\n",
    "# mapa.update_layout(mapbox_style = 'open-street-map')\n",
    "# mapa.update_layout(height = 600, margin={'r':0,'t':0,'l':0,'b':0})\n",
    "# mapa.show()\n",
    "         \n",
    "# mapa.write_html('C:/Users/jps/Desktop/Python/repos/python_zero_ao_ds1/datasets/house_rocket/mapa_house_rocket.html')"
   ]
  },
  {
   "cell_type": "code",
   "execution_count": 10,
   "id": "6dfd4095",
   "metadata": {
    "scrolled": false
   },
   "outputs": [],
   "source": [
    "########### RODAR ###########\n",
    "\n",
    "report['date_yr'] = report['date'].dt.year \n",
    "report['date_ywk'] = report['date'].dt.strftime( '%Y-Week-%U' )  \n",
    "report['date_day'] = report['date'].dt.strftime( '%d-%m-%Y' )\n",
    "\n",
    "report_yr = report[['date_yr','price']].groupby(['date_yr']).sum()\n",
    "report_ywk = report[['date_ywk','price']].groupby(['date_ywk']).mean()\n",
    "report_day = report[['date_day','price']].groupby(['date_day']).mean()\n",
    "\n",
    "########### RODAR ###########"
   ]
  },
  {
   "cell_type": "code",
   "execution_count": 11,
   "id": "2ce67cab",
   "metadata": {},
   "outputs": [],
   "source": [
    "# # Criando o dashboard: \n",
    "# fig = plt.figure(figsize = (20, 12))\n",
    "# specs = gridspec.GridSpec(ncols = 2, nrows = 2, figure = fig)\n",
    "\n",
    "# # Posicionando os gráficos do dash:\n",
    "# ax1 = fig.add_subplot(specs[0,:])\n",
    "# ax2 = fig.add_subplot(specs[1,0])\n",
    "# ax3 = fig.add_subplot(specs[1,1])\n",
    "\n",
    "# # Gráfico 1:\n",
    "# x_yr = report_yr.index\n",
    "# y_yr = report_yr['price']\n",
    "# ax1.bar(x_yr, y_yr)\n",
    "    \n",
    "# # Gráfico 2:\n",
    "# x_day = report_day.index\n",
    "# y_day = report_day['price']\n",
    "# ax2.plot(x_day, y_day, 'bo', lw = 2.0, ls = '--')\n",
    "# plt.xticks(rotation = 60)\n",
    "\n",
    "# # Gráfico 3:\n",
    "# x_ywk = report_ywk.index\n",
    "# y_ywk = report_ywk['price']\n",
    "# ax3.plot(x_ywk, y_ywk, 'bo', lw = 2.0, ls = '--')\n",
    "# plt.xticks(rotation = 60)\n",
    "\n",
    "# plt.show()"
   ]
  },
  {
   "cell_type": "code",
   "execution_count": 12,
   "id": "279e6ef3",
   "metadata": {
    "scrolled": false
   },
   "outputs": [],
   "source": [
    "########### RODAR ###########\n",
    "\n",
    "df = df.drop(columns =['sqft_living15','sqft_lot15'])\n",
    "# dormitory_type = 1,2,3 para imóvel tipo = studio,apartamento,casa\n",
    "df['dormitory_type'] = None\n",
    "df.loc[df['bedrooms']==1, ['dormitory_type']] = 'studio'\n",
    "df.loc[df['bedrooms']==2, ['dormitory_type']] = 'apartmento'\n",
    "df.loc[df['bedrooms']>2, ['dormitory_type']] = 'casa'\n",
    "\n",
    "########### RODAR ###########"
   ]
  },
  {
   "cell_type": "code",
   "execution_count": 13,
   "id": "bffe1b48",
   "metadata": {},
   "outputs": [],
   "source": [
    "# quest_2 = df[['bedrooms','price']].groupby(['bedrooms']).sum()\n",
    "# x1 = quest_2.index\n",
    "# y1 = quest_2['price']\n",
    "# plt.figure(figsize = (20, 12))\n",
    "# plt.bar(x1, y1)\n",
    "# plt.show()\n",
    "\n",
    "# quest_3 = df[['yr_built','price']].groupby(['yr_built']).mean()\n",
    "# x2 = quest_3.index\n",
    "# y2 = quest_3['price']\n",
    "# x2_mean = [1900,2020]\n",
    "# y2_mean = [df['price'].mean(),df['price'].mean()]\n",
    "# plt.figure(figsize = (20, 12))\n",
    "# plt.plot(x2, y2, x2_mean, y2_mean, 'bo', lw = 2.0, ls = '--')\n",
    "# plt.show()\n",
    "\n",
    "# quest_4 = df[['dormitory_type','price']].groupby(['dormitory_type']).mean()\n",
    "# x3 = quest_4.index\n",
    "# y3 = quest_4['price']\n",
    "# plt.figure(figsize = (20, 12))\n",
    "# plt.bar(x3, y3, width = 0.5)\n",
    "# plt.show()\n",
    "\n"
   ]
  },
  {
   "cell_type": "code",
   "execution_count": 14,
   "id": "573a4b2e",
   "metadata": {},
   "outputs": [],
   "source": [
    "# fig = plt.figure(figsize = (20, 12))\n",
    "# specs = gridspec.GridSpec(ncols = 2, nrows = 2, figure = fig)\n",
    "# ax1 = fig.add_subplot(specs[0,:])\n",
    "# ax2 = fig.add_subplot(specs[1,0])\n",
    "# ax3 = fig.add_subplot(specs[1,1])\n",
    "\n",
    "# ax1.bar(x1, y1)\n",
    "# ax2.plot(x2, y2, x2_mean, y2_mean, 'bo', lw = 2.0, ls = '--')\n",
    "# ques_3_ = df[['bedrooms','price']].groupby(['bedrooms']).mean()\n",
    "# x3_, y3_ = ques_3_.index,ques_3_['price'] \n",
    "# ax3.bar(x3_, y3_)\n",
    "\n",
    "# plt.show()"
   ]
  },
  {
   "cell_type": "code",
   "execution_count": 15,
   "id": "1b830730",
   "metadata": {},
   "outputs": [],
   "source": [
    "# fig = plt.figure(figsize = (20, 12))\n",
    "# specs = gridspec.GridSpec(ncols = 2, nrows = 1, figure = fig)\n",
    "# ax1 = fig.add_subplot(specs[0,0])\n",
    "# ax3 = fig.add_subplot(specs[0,1])\n",
    "\n",
    "# ax1.bar(x1, y1)\n",
    "# ax3.bar(x3, y3, width = 0.5)\n",
    "\n",
    "# plt.show()"
   ]
  },
  {
   "cell_type": "code",
   "execution_count": 16,
   "id": "caada51a",
   "metadata": {},
   "outputs": [],
   "source": [
    "# quest_5 = df.drop(df[df['yr_renovated']==0].index)\n",
    "# quest_5 = quest_5[['yr_renovated','price']].groupby(['yr_renovated']).mean()\n",
    "# x4 = quest_5.index\n",
    "# y4 = quest_5['price']\n",
    "# plt.figure(figsize = (20, 12))\n",
    "# plt.plot(x4, y4, 'bo', lw = 2.0, ls = '--')\n",
    "# plt.show()"
   ]
  },
  {
   "cell_type": "code",
   "execution_count": 17,
   "id": "0cf9aba6",
   "metadata": {},
   "outputs": [],
   "source": [
    "# fig = plt.figure(figsize = (20, 12))\n",
    "# specs = gridspec.GridSpec(ncols = 1, nrows = 2, figure = fig)\n",
    "# ax2 = fig.add_subplot(specs[0,0])\n",
    "# ax4 = fig.add_subplot(specs[1,0])\n",
    "\n",
    "# ax2.plot(x2, y2, 'bo', lw = 2.0, ls = '--')\n",
    "# ax4.plot(x4, y4, 'bo', lw = 2.0, ls = '--')\n",
    "\n",
    "# plt.show()"
   ]
  },
  {
   "cell_type": "code",
   "execution_count": 18,
   "id": "e7b73874",
   "metadata": {},
   "outputs": [],
   "source": [
    "# # API to get address info from pair of coordinates:\n",
    "\n",
    "# from geopy.geocoders import Nominatim\n",
    "# geolocator = Nominatim(user_agent=\"geoapiExercises\")\n",
    "# df[['house_number','road','neighbourhood','city','county','state']] = None\n",
    "# coord = pd.DataFrame(df['lat'].astype(\"string\")+', '+df['long'].astype(\"string\"))\n",
    "\n",
    "# for i in range(0,len(coord[0])):\n",
    "#     print('Loop: {} / {}'.format(i, len(coord[0])))\n",
    "#     try:\n",
    "#         df.loc[i,['house_number']] = geolocator.reverse(coord[0].loc[i]).raw['address']['house_number']\n",
    "#     except Exception:\n",
    "#         pass\n",
    "#     try:\n",
    "#         df.loc[i,['road']] = geolocator.reverse(coord[0].loc[i]).raw['address']['road']\n",
    "#     except Exception:\n",
    "#         pass\n",
    "#     try:\n",
    "#         df.loc[i,['neighbourhood']] = geolocator.reverse(coord[0].loc[i]).raw['address']['neighbourhood']\n",
    "#     except Exception:\n",
    "#         pass\n",
    "#     try:\n",
    "#         df.loc[i,['city']] = geolocator.reverse(coord[0].loc[i]).raw['address']['city']\n",
    "#     except Exception:\n",
    "#         pass\n",
    "#     try:\n",
    "#         df.loc[i,['county']] = geolocator.reverse(coord[0].loc[i]).raw['address']['county']\n",
    "#     except Exception:\n",
    "#         pass\n",
    "#     try:\n",
    "#         df.loc[i,['state']] = geolocator.reverse(coord[0].loc[i]).raw['address']['state']\n",
    "#     except Exception:\n",
    "#         pass\n",
    "    "
   ]
  },
  {
   "cell_type": "code",
   "execution_count": 19,
   "id": "6e8bf61e",
   "metadata": {},
   "outputs": [],
   "source": [
    "# def update_map(df, waterfront, limit_price, limit_date):\n",
    "#     df_map = df[(df['is_waterfront'] == waterfront) & \n",
    "#                 (df['price']>= limit_price[0]) &\n",
    "#                 (df['price']<= limit_price[1]) &\n",
    "#                 (df['date']>= limit_date)]\n",
    "    \n",
    "#     map_interactive = px.scatter_mapbox(df_map, \n",
    "#                                         lat = 'lat', \n",
    "#                                         lon = 'long',\n",
    "#                                         color = 'level',\n",
    "#                                         size = 'price',\n",
    "#                                         color_continuous_scale = px.colors.sequential.Rainbow,\n",
    "#                                         size_max=15,\n",
    "#                                         zoom = 10)\n",
    "#     map_interactive.update_layout(mapbox_style = 'open-street-map')\n",
    "#     map_interactive.update_layout(height = 600, margin={'r':0,'t':0,'l':0,'b':0})\n",
    "#     map_interactive.show()\n",
    "    \n",
    "# widgets.interactive(update_map, df = fixed(df_map), waterfront = waterfront_bar, limit_price = price_limit, limit_date = date_limit)\n",
    "\n",
    "\n"
   ]
  },
  {
   "cell_type": "code",
   "execution_count": 39,
   "id": "6cf58723",
   "metadata": {},
   "outputs": [],
   "source": [
    "def update_graphs(df, limit_date):\n",
    "    \n",
    "    df_map = df\n",
    "    df_map['date'] = pd.to_datetime(df['date']).dt.strftime('%Y-%m-%d')\n",
    "    df_map['year'] = pd.to_datetime(df_map['date']).dt.strftime('%Y')\n",
    "    df_map['week'] = pd.to_datetime(df_map['date']).dt.strftime('%Y-%U')\n",
    "    \n",
    "    df_map = df[df_map['date']>= limit_date]\n",
    "    \n",
    "    # Criando o dashboard: \n",
    "    fig = plt.figure(figsize = (21, 12))\n",
    "    specs = gridspec.GridSpec(ncols = 2, nrows = 2, figure = fig)\n",
    "\n",
    "    # Posicionando os gráficos do dash:\n",
    "    ax1 = fig.add_subplot(specs[0,:])\n",
    "    ax2 = fig.add_subplot(specs[1,0])\n",
    "    ax3 = fig.add_subplot(specs[1,1])\n",
    "\n",
    "    # Gráfico 1:\n",
    "    df_ax1 = df_map[['id','year']].groupby('year').count().reset_index()\n",
    "    ax1.bar(df_ax1['year'], df_ax1['id'])\n",
    "\n",
    "    # Gráfico 2:\n",
    "    df_ax2 = df_map[['week','price']].groupby('week').mean().reset_index()\n",
    "    ax2.plot(df_ax2['week'], df_ax2['price'], 'bo', lw = 2.0, ls = '--')\n",
    "    plt.xticks(rotation = 60)\n",
    "\n",
    "    # Gráfico 3:\n",
    "    df_ax3 = df_map[['date','price']].groupby('date').mean().reset_index()\n",
    "    ax3.plot(df_ax3['date'], df_ax3['price'], 'bo', lw = 2.0, ls = '--')\n",
    "    plt.xticks(rotation = 60)\n",
    "    \n",
    "# widgets.interactive(update_graphs, df = fixed(df_map), limit_date = date_limit)\n"
   ]
  },
  {
   "cell_type": "code",
   "execution_count": 20,
   "id": "e126dbce",
   "metadata": {},
   "outputs": [],
   "source": [
    "df_map = df[['date','id','lat','long','price']].copy()\n",
    "df_map['level'] = pd.cut(df_map['price'], [0,321950,450000,645000,15000000], labels = [0,1,2,3]).astype(int64)\n",
    "df_map['is_waterfront'] = df['waterfront'].apply(lambda x: 'yes' \n",
    "                                                     if x ==1 \n",
    "                                                     else 'no')\n",
    "\n",
    "# Interactive buttons:\n",
    "\n",
    "price_limit = widgets.IntRangeSlider(\n",
    "    min = 0,\n",
    "    max = 8000000,\n",
    "    step = 20000,\n",
    "    description = 'Price Range:',\n",
    "    disabled=False,\n",
    "    orientation='horizontal',\n",
    "    readout=True,\n",
    "    readout_format='d',\n",
    "    style = {'description_width':'initial'}\n",
    ")\n",
    "\n",
    "built_year = widgets.Dropdown(\n",
    "    options = df['yr_built'].sort_values().unique().tolist(),\n",
    "    value = 1900,\n",
    "    description = 'Year of construction',\n",
    "    disable = False\n",
    ")\n",
    "\n",
    "bathroom_min = widgets.Dropdown(\n",
    "    options = df['bathrooms'].sort_values().astype(int64).unique().tolist(),\n",
    "    value = 0,\n",
    "    description = 'Mín. n° of bathrooms',\n",
    "    disable = False\n",
    ")\n",
    "\n",
    "mark_condition = widgets.Dropdown(\n",
    "    options = df['condition'].sort_values().unique().tolist(),\n",
    "    value = 1,\n",
    "    description = 'Property condition',\n",
    "    disable = False\n",
    ")\n",
    "\n",
    "sqft_living_min = widgets.SelectionSlider(\n",
    "    options = df['sqft_living'].sort_values().unique().tolist(),\n",
    "    value = df['sqft_living'].min(),\n",
    "    description = 'Minimum size of living room:',\n",
    "    continuous_update = False,\n",
    "    orientation = 'horizontal',\n",
    "    readout = True\n",
    ")"
   ]
  },
  {
   "cell_type": "code",
   "execution_count": 21,
   "id": "374edc44",
   "metadata": {},
   "outputs": [
    {
     "data": {
      "application/vnd.jupyter.widget-view+json": {
       "model_id": "44672587872c4d22b4064bc731509ee9",
       "version_major": 2,
       "version_minor": 0
      },
      "text/plain": [
       "interactive(children=(SelectionSlider(continuous_update=False, description='Minimum size of living room:', opt…"
      ]
     },
     "metadata": {},
     "output_type": "display_data"
    }
   ],
   "source": [
    "# Questão 1:\n",
    "df_map[['level','price']].groupby('level').mean()\n",
    "\n",
    "# Questão 2:\n",
    "df['size_type'] = pd.cut(df['sqft_living'], [0,1427,1910,2550,50000], labels = ['Size 0','Size 1','Size 2','Size 3'])\n",
    "df[['sqft_living', 'size_type']].groupby('size_type').mean()\n",
    "\n",
    "# Questão 3:\n",
    "\n",
    "def update_map(df, min_sqft_living, limit_price, min_bathroom, condition_mark ,year_built):\n",
    "    df_map = df[(df['sqft_living'] >= min_sqft_living) & \n",
    "                (df['price']>= limit_price[0]) &\n",
    "                (df['price']<= limit_price[1]) &\n",
    "                (df['bathrooms'] >= min_bathroom) &\n",
    "                (df['condition'] == condition_mark) &\n",
    "                (df['yr_built'] == year_built)]\n",
    "    \n",
    "    map_interactive = px.scatter_mapbox(df_map, \n",
    "                                        lat = 'lat', \n",
    "                                        lon = 'long',\n",
    "                                        color = 'price',\n",
    "                                        size = 'price',\n",
    "                                        color_continuous_scale = px.colors.sequential.Rainbow,\n",
    "                                        size_max=15,\n",
    "                                        zoom = 10)\n",
    "    map_interactive.update_layout(mapbox_style = 'open-street-map')\n",
    "    map_interactive.update_layout(height = 600, margin={'r':0,'t':0,'l':0,'b':0})\n",
    "    map_interactive.show()\n",
    "\n",
    "widgets.interactive(update_map, df = fixed(df),\n",
    "                    min_sqft_living = sqft_living_min,\n",
    "                    limit_price = price_limit,\n",
    "                    min_bathroom = bathroom_min,\n",
    "                    condition_mark = mark_condition,\n",
    "                    year_built = built_year \n",
    "                   )"
   ]
  },
  {
   "cell_type": "markdown",
   "id": "bb123967",
   "metadata": {},
   "source": [
    "# How to request an API without timeoutting (Paralell requests):"
   ]
  },
  {
   "cell_type": "code",
   "execution_count": 28,
   "id": "9aa66262",
   "metadata": {},
   "outputs": [
    {
     "name": "stdout",
     "output_type": "stream",
     "text": [
      "0.03125\n"
     ]
    }
   ],
   "source": [
    "# ------------------------------\n",
    "# Arquivo defs.py\n",
    "# ------------------------------\n",
    "#\n",
    "# import time\n",
    "# from geopy.geocoders import Nominatim\n",
    "\n",
    "# geolocator = Nominatim( user_agent='geopiExercises' )\n",
    "\n",
    "# def get_longlat( x ):\n",
    "#    index, row = x\n",
    "#    time.sleep(1)\n",
    "#    response = geolocator.reverse( row['query'] )\n",
    "#    address = response.raw['address']\n",
    "\n",
    "#    try:\n",
    "#        place_id = response.raw['place_id'] if 'place_id' in response.raw else 'NA'\n",
    "#        osm_type = response.raw['osm_type'] if 'osm_type' in response.raw else 'NA'\n",
    "\n",
    "#        country = address['country'] if 'country' in address else 'NA'\n",
    "#        country_code = address['country_code'] if 'country_code' in address else 'NA'\n",
    "\n",
    "#        return place_id, osm_type, country, country_code\n",
    "\n",
    "#    except:\n",
    "#        return None, None, None, None\n",
    "\n",
    "import time\n",
    "import defs\n",
    "from multiprocessing import Pool\n",
    "\n",
    "df['query'] = df[['lat', 'long']].apply( lambda x: str( x['lat'] ) + ',' + str( x['long'] ), axis=1 )\n",
    "df1 = df[['id', 'query']].head(200)\n",
    "\n",
    "p = Pool(2)\n",
    "start = time.process_time()\n",
    "df1[['place_id', 'osm_type', 'country', 'country_code']] = p.map( defs.get_longlat, df1.iterrows() )\n",
    "print(time.process_time() - start)"
   ]
  },
  {
   "cell_type": "code",
   "execution_count": null,
   "id": "461850e9",
   "metadata": {},
   "outputs": [],
   "source": []
  }
 ],
 "metadata": {
  "kernelspec": {
   "display_name": "Python 3 (ipykernel)",
   "language": "python",
   "name": "python3"
  },
  "language_info": {
   "codemirror_mode": {
    "name": "ipython",
    "version": 3
   },
   "file_extension": ".py",
   "mimetype": "text/x-python",
   "name": "python",
   "nbconvert_exporter": "python",
   "pygments_lexer": "ipython3",
   "version": "3.9.7"
  }
 },
 "nbformat": 4,
 "nbformat_minor": 5
}
